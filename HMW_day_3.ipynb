{
 "cells": [
  {
   "cell_type": "code",
   "execution_count": null,
   "metadata": {},
   "outputs": [
    {
     "name": "stdout",
     "output_type": "stream",
     "text": [
      "Welcome!\n"
     ]
    }
   ],
   "source": [
    "#HOMEWORK1\n",
    "print(\"Welcome!\")\n",
    "\n",
    "new_username = \"nickname\"\n",
    "new_password = \"password\"\n",
    "\n",
    "new_username2 = input(\"Please enter your username\")\n",
    "\n",
    "new_password2 = input(\"Please enter your password\")\n",
    "\n",
    "if (new_username != new_username2 and new_password == new_password2):\n",
    "    print(\"Invalid username, please try again.\")\n",
    "elif (new_username == new_username2 and new_password != new_password2):\n",
    "    print(\"Invalid password, plase try again.\")\n",
    "elif(new_username != new_username2 and new_password!= new_password2):\n",
    "    print(\"Invalid username and password, please try again.\")\n",
    "else:\n",
    "    print(\"Login is succeded.\")"
   ]
  },
  {
   "cell_type": "code",
   "execution_count": null,
   "metadata": {},
   "outputs": [],
   "source": [
    "#HOMEWORKEXTRA\n",
    "#HOMEWORK\n",
    "new_dict = {\"username\" : \"nickname\" ,\n",
    "           \"password\" : \"password\"}\n",
    "\n",
    "username2 = input(\"Please enter your username\")\n",
    "\n",
    "password2 = input(\"Please enter your password\")\n",
    "\n",
    "if username2 in new_dict.keys():\n",
    "    print(\"Login is succeded\")\n",
    "if password2 in new_dict.keys():\n",
    "    print(\"Login is succeded\")\n",
    "else:\n",
    "    print(\"Invalid login, please try again\")"
   ]
  },
  {
   "cell_type": "code",
   "execution_count": null,
   "metadata": {},
   "outputs": [],
   "source": []
  }
 ],
 "metadata": {
  "kernelspec": {
   "display_name": "Python 3",
   "language": "python",
   "name": "python3"
  },
  "language_info": {
   "codemirror_mode": {
    "name": "ipython",
    "version": 3
   },
   "file_extension": ".py",
   "mimetype": "text/x-python",
   "name": "python",
   "nbconvert_exporter": "python",
   "pygments_lexer": "ipython3",
   "version": "3.8.5"
  }
 },
 "nbformat": 4,
 "nbformat_minor": 4
}
