{
 "cells": [
  {
   "cell_type": "code",
   "execution_count": 1,
   "metadata": {},
   "outputs": [],
   "source": [
    "class Person:\n",
    "    def __init__ (self, name, age, languages):\n",
    "        self.name_lname = name\n",
    "        self.age = age\n",
    "        self.language = languages\n",
    "    def print_name_age(self):\n",
    "        print(self.name_lname + \" is \" + str(self.age) + \" years old.\")\n",
    "    def print_language(self):\n",
    "        print(self.language)\n",
    "        "
   ]
  },
  {
   "cell_type": "code",
   "execution_count": 12,
   "metadata": {},
   "outputs": [
    {
     "name": "stdout",
     "output_type": "stream",
     "text": [
      "Bülent Kale is 45 years old.\n",
      "Turkish, English\n",
      "English, French\n"
     ]
    }
   ],
   "source": [
    "class Employee(Person):\n",
    "    pass\n",
    "employee1= Employee(\"Bülent Kale\", 45, \"Turkish, English\")\n",
    "employee2 = Employee(\"Selin Çetin\", 28 ,\"English, French\")\n",
    "employee3 = Employee(\"Hakan Demir\", 30 , \"English, Turkish\")\n",
    "\n",
    "\n",
    "employee1.print_name_age()\n",
    "employee1.print_language()\n",
    "employee2.print_language()\n"
   ]
  },
  {
   "cell_type": "code",
   "execution_count": 13,
   "metadata": {},
   "outputs": [
    {
     "name": "stdout",
     "output_type": "stream",
     "text": [
      "Turkish, English, Chinese\n",
      "Turkish, English,Spanish\n",
      "Turkish,English,Japanese\n",
      "Nazlı Şaşmaz is 46 years old.\n"
     ]
    }
   ],
   "source": [
    "class Manager(Person):\n",
    "    pass\n",
    "manager1 = Manager(\"Nazlı Şaşmaz\", 46, \"Turkish,English,Japanese\")\n",
    "manager2 = Manager(\"Ahmet Çiçek\", 38, \"Turkish, English,Spanish\")\n",
    "manager3 = Manager(\"Esma Doğan\", 48, \"Turkish, English, Chinese\")\n",
    "manager3.print_language()\n",
    "manager2.print_language()\n",
    "manager1.print_language()\n",
    "manager1.print_name_age()"
   ]
  }
 ],
 "metadata": {
  "kernelspec": {
   "display_name": "Python 3",
   "language": "python",
   "name": "python3"
  },
  "language_info": {
   "codemirror_mode": {
    "name": "ipython",
    "version": 3
   },
   "file_extension": ".py",
   "mimetype": "text/x-python",
   "name": "python",
   "nbconvert_exporter": "python",
   "pygments_lexer": "ipython3",
   "version": "3.8.5"
  }
 },
 "nbformat": 4,
 "nbformat_minor": 4
}
