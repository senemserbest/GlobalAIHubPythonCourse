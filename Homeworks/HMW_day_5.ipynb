{
 "cells": [
  {
   "cell_type": "code",
   "execution_count": 14,
   "metadata": {},
   "outputs": [],
   "source": [
    "class Animals:\n",
    "    def __init__(self, name, breed, age):\n",
    "        self.name = name\n",
    "        self.breed = breed\n",
    "        self.age = age\n",
    "        \n",
    "    def print_age(self):\n",
    "        print(self.name + \" is \" + str(self.age) + \" years old.\")\n",
    "    def print_breed(self):\n",
    "        print(self.breed)\n",
    "    "
   ]
  },
  {
   "cell_type": "code",
   "execution_count": 16,
   "metadata": {},
   "outputs": [
    {
     "name": "stdout",
     "output_type": "stream",
     "text": [
      "Pamuk is 8 years old.\n",
      "Akbaş\n"
     ]
    }
   ],
   "source": [
    "class Dog(Animals):\n",
    "    pass\n",
    "dog1 = Dog(\"Pamuk\",\"Akbaş\", 8)\n",
    "dog1.print_age()\n",
    "dog1.print_breed()\n"
   ]
  },
  {
   "cell_type": "code",
   "execution_count": 22,
   "metadata": {},
   "outputs": [],
   "source": [
    "class Dog(Animals):\n",
    "    def __init__ (self, name, owner):\n",
    "        self.name = name\n",
    "        self.owner = owner\n",
    "    def print_owner_name(self):\n",
    "        \n",
    "        print(self.owner + \" is \" + self.name + \"'s owner.\")\n"
   ]
  },
  {
   "cell_type": "code",
   "execution_count": 23,
   "metadata": {},
   "outputs": [
    {
     "name": "stdout",
     "output_type": "stream",
     "text": [
      "Ali is Fındık's owner.\n"
     ]
    }
   ],
   "source": [
    "dog2 = Dog(\"Fındık\",\"Ali\")\n",
    "dog2.print_owner_name()"
   ]
  },
  {
   "cell_type": "code",
   "execution_count": 18,
   "metadata": {},
   "outputs": [
    {
     "name": "stdout",
     "output_type": "stream",
     "text": [
      "Tarçın is 4 years old.\n",
      "Ginger\n"
     ]
    }
   ],
   "source": [
    "class Cat(Animals):\n",
    "    pass\n",
    "cat1 = Cat(\"Tarçın\",\"Ginger\", 4)\n",
    "cat1.print_age()\n",
    "cat1.print_breed()"
   ]
  },
  {
   "cell_type": "code",
   "execution_count": 31,
   "metadata": {},
   "outputs": [],
   "source": [
    "class Cat(Animals):\n",
    "    def __init__ (self,catName, catAge):\n",
    "        self.name = catName\n",
    "        self.age = catAge\n",
    "        print(\"Welcome. Please don't forget to enter your cat's age as in months.\")\n",
    "    def aboutCat(self):\n",
    "        \n",
    "        if self.age <=0:\n",
    "            return(\"Invalid value, please try again. \")\n",
    "        else:\n",
    "            if 0 < self.age <= 8:\n",
    "                print(self.name, \" is a kitten.\")\n",
    "            elif 9 <= self.age <= 25:\n",
    "                print(self.name,\" is a junior.\")\n",
    "            elif 26 <= self.age <= 120:\n",
    "                print(self.name, \" is an adult.\" )\n",
    "            elif self.age > 120:\n",
    "                print(self.name, \" is a senior.\")\n",
    "    "
   ]
  },
  {
   "cell_type": "code",
   "execution_count": 37,
   "metadata": {},
   "outputs": [
    {
     "name": "stdout",
     "output_type": "stream",
     "text": [
      "Welcome. Please don't forget to enter your cat's age as in months.\n",
      "Yumuş  is a junior.\n"
     ]
    }
   ],
   "source": [
    "cat2 = Cat(\"Yumuş\", 9)\n",
    "cat2.aboutCat()"
   ]
  }
 ],
 "metadata": {
  "kernelspec": {
   "display_name": "Python 3",
   "language": "python",
   "name": "python3"
  },
  "language_info": {
   "codemirror_mode": {
    "name": "ipython",
    "version": 3
   },
   "file_extension": ".py",
   "mimetype": "text/x-python",
   "name": "python",
   "nbconvert_exporter": "python",
   "pygments_lexer": "ipython3",
   "version": "3.8.5"
  }
 },
 "nbformat": 4,
 "nbformat_minor": 4
}
