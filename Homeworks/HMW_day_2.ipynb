{
 "cells": [
  {
   "cell_type": "code",
   "execution_count": 21,
   "metadata": {},
   "outputs": [
    {
     "name": "stdout",
     "output_type": "stream",
     "text": [
      "['brown', 'purple', 'yellow', 'pink', 'orange', 'white', 'black', 'green', 'red', 'blue']\n"
     ]
    },
    {
     "data": {
      "text/plain": [
       "['white',\n",
       " 'black',\n",
       " 'green',\n",
       " 'red',\n",
       " 'blue',\n",
       " 'brown',\n",
       " 'purple',\n",
       " 'yellow',\n",
       " 'pink',\n",
       " 'orange']"
      ]
     },
     "execution_count": 21,
     "metadata": {},
     "output_type": "execute_result"
    }
   ],
   "source": [
    "new_list = [\"brown\",\"purple\",\"yellow\",\"pink\",\"orange\",\"white\",\"black\",\"green\",\"red\",\"blue\"]\n",
    "print(new_list)\n",
    "new_list[5:10] + new_list[0:5]\n"
   ]
  },
  {
   "cell_type": "code",
   "execution_count": 20,
   "metadata": {},
   "outputs": [
    {
     "name": "stdin",
     "output_type": "stream",
     "text": [
      "Please enter a stop number:  11\n"
     ]
    },
    {
     "name": "stdout",
     "output_type": "stream",
     "text": [
      "[0, 2, 4, 6, 8, 10]\n"
     ]
    }
   ],
   "source": [
    "#HOMEWORK\n",
    "stop_number = int(input(\"Please enter a stop number: \"))\n",
    "nums = list(range(stop_number+1))\n",
    "\n",
    "even_numbers = [i for i in nums if i % 2 == 0]\n",
    "\n",
    "print(even_numbers)\n",
    "    \n",
    "\n"
   ]
  }
 ],
 "metadata": {
  "kernelspec": {
   "display_name": "Python 3",
   "language": "python",
   "name": "python3"
  },
  "language_info": {
   "codemirror_mode": {
    "name": "ipython",
    "version": 3
   },
   "file_extension": ".py",
   "mimetype": "text/x-python",
   "name": "python",
   "nbconvert_exporter": "python",
   "pygments_lexer": "ipython3",
   "version": "3.8.5"
  }
 },
 "nbformat": 4,
 "nbformat_minor": 4
}
